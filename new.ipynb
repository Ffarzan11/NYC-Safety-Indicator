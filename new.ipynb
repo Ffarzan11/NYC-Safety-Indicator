{
 "cells": [
  {
   "cell_type": "code",
   "execution_count": 23,
   "id": "24335f90",
   "metadata": {},
   "outputs": [
    {
     "name": "stdout",
     "output_type": "stream",
     "text": [
      "Excel file updated successfully.\n"
     ]
    }
   ],
   "source": [
    "import pandas as pd\n",
    "\n",
    "# Load the Excel file\n",
    "file_path = 'data4_population_updated.csv'  # Replace with your actual file path\n",
    "df = pd.read_csv(file_path)\n",
    "\n",
    "# Update the Population column where NTA2020 is MN0502\n",
    "df.loc[df['NTA2020'] == 'BX0492', 'Population'] = 0\n",
    "\n",
    "\n",
    "\n",
    "df.loc[df['NTA2020'] == 'QN1102', 'Population'] = 34742\n",
    "\n",
    "df.loc[df['NTA2020'] == 'QN8191', 'Population'] = 56\n",
    "df.loc[df['NTA2020'] == 'BK1802', 'Population'] = 45231\n",
    "df.loc[df['NTA2020'] == 'BK1203', 'Population'] = 40472\n",
    "df.loc[df['NTA2020'] == 'MN6491', 'Population'] = 25\n",
    "df.loc[df['NTA2020'] == 'QN8381', 'Population'] = 0\n",
    "df.loc[df['NTA2020'] == 'QN1191', 'Population'] = 72\n",
    "df.loc[df['NTA2020'] == 'BK0771', 'Population'] = 5\n",
    "df.loc[df['NTA2020'] == 'BK1301', 'Population'] = 27400\n",
    "\n",
    "\n",
    "\n",
    "\n",
    "\n",
    "\n",
    "\n",
    "\n",
    "\n",
    "\n",
    "\n",
    "\n",
    "\n",
    "\n",
    "\n",
    "\n",
    "\n",
    "\n",
    "\n",
    "\n",
    "# Save the updated DataFrame back to the Excel file\n",
    "df.to_csv(file_path, index=False)\n",
    "\n",
    "print(\"Excel file updated successfully.\")"
   ]
  }
 ],
 "metadata": {
  "kernelspec": {
   "display_name": "Python 3",
   "language": "python",
   "name": "python3"
  },
  "language_info": {
   "codemirror_mode": {
    "name": "ipython",
    "version": 3
   },
   "file_extension": ".py",
   "mimetype": "text/x-python",
   "name": "python",
   "nbconvert_exporter": "python",
   "pygments_lexer": "ipython3",
   "version": "3.12.6"
  }
 },
 "nbformat": 4,
 "nbformat_minor": 5
}
