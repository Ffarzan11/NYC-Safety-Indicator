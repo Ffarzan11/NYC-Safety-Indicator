{
 "cells": [
  {
   "cell_type": "code",
   "execution_count": 22,
   "metadata": {},
   "outputs": [
    {
     "name": "stdout",
     "output_type": "stream",
     "text": [
      "   ARREST_KEY ARREST_DATE            PD_DESC       OFNS_DESC LAW_CAT_CD  \\\n",
      "0   281369711   1/30/2024       SEXUAL ABUSE      SEX CRIMES          F   \n",
      "1   284561406   3/30/2024  STRANGULATION 1ST  FELONY ASSAULT          F   \n",
      "2   284896016    4/6/2024  STRANGULATION 1ST  FELONY ASSAULT          F   \n",
      "3   285569016   4/18/2024  STRANGULATION 1ST  FELONY ASSAULT          F   \n",
      "4   287308954   5/22/2024           JOSTLING        JOSTLING          M   \n",
      "\n",
      "  ARREST_BORO PERP_SEX PERP_RACE  X_COORD_CD  Y_COORD_CD   Latitude  \\\n",
      "0   Manhattan        M     BLACK     1000558      231080  40.800930   \n",
      "1       Bronx        M     BLACK     1004297      242846  40.833209   \n",
      "2   Manhattan        M     BLACK      997304      222853  40.778348   \n",
      "3    Brooklyn        M     BLACK     1010576      175628  40.648698   \n",
      "4   Manhattan        M     WHITE      991530      217373  40.763313   \n",
      "\n",
      "   Longitude                    New Georeferenced Column  \n",
      "0 -73.941098  POINT (-73.9410982410066 40.8009303727402)  \n",
      "1 -73.927554                POINT (-73.927554 40.833209)  \n",
      "2 -73.952863                POINT (-73.952863 40.778348)  \n",
      "3 -73.905128                POINT (-73.905128 40.648698)  \n",
      "4 -73.973717                POINT (-73.973717 40.763313)  \n"
     ]
    }
   ],
   "source": [
    "import pandas as pd\n",
    "import numpy as np\n",
    "\n",
    "df = pd.read_csv(\"data4.csv\")\n",
    "\n",
    "print(df.head())"
   ]
  },
  {
   "cell_type": "code",
   "execution_count": 23,
   "metadata": {},
   "outputs": [
    {
     "name": "stdout",
     "output_type": "stream",
     "text": [
      "ARREST_KEY                  260503\n",
      "ARREST_DATE                 260503\n",
      "PD_DESC                     260503\n",
      "OFNS_DESC                   260503\n",
      "LAW_CAT_CD                  259113\n",
      "ARREST_BORO                 260503\n",
      "PERP_SEX                    260503\n",
      "PERP_RACE                   260503\n",
      "X_COORD_CD                  260503\n",
      "Y_COORD_CD                  260503\n",
      "Latitude                    260499\n",
      "Longitude                   260499\n",
      "New Georeferenced Column    260499\n",
      "dtype: int64\n"
     ]
    }
   ],
   "source": [
    "print(df.count())"
   ]
  },
  {
   "cell_type": "code",
   "execution_count": 24,
   "metadata": {},
   "outputs": [
    {
     "data": {
      "text/plain": [
       "ARREST_KEY                     0\n",
       "ARREST_DATE                    0\n",
       "PD_DESC                        0\n",
       "OFNS_DESC                      0\n",
       "LAW_CAT_CD                  1390\n",
       "ARREST_BORO                    0\n",
       "PERP_SEX                       0\n",
       "PERP_RACE                      0\n",
       "X_COORD_CD                     0\n",
       "Y_COORD_CD                     0\n",
       "Latitude                       4\n",
       "Longitude                      4\n",
       "New Georeferenced Column       4\n",
       "dtype: int64"
      ]
     },
     "execution_count": 24,
     "metadata": {},
     "output_type": "execute_result"
    }
   ],
   "source": [
    "df.isna().sum()"
   ]
  },
  {
   "cell_type": "code",
   "execution_count": 25,
   "metadata": {},
   "outputs": [],
   "source": [
    "df = df.dropna()"
   ]
  },
  {
   "cell_type": "code",
   "execution_count": 26,
   "metadata": {},
   "outputs": [
    {
     "name": "stdout",
     "output_type": "stream",
     "text": [
      "ARREST_KEY                  259109\n",
      "ARREST_DATE                 259109\n",
      "PD_DESC                     259109\n",
      "OFNS_DESC                   259109\n",
      "LAW_CAT_CD                  259109\n",
      "ARREST_BORO                 259109\n",
      "PERP_SEX                    259109\n",
      "PERP_RACE                   259109\n",
      "X_COORD_CD                  259109\n",
      "Y_COORD_CD                  259109\n",
      "Latitude                    259109\n",
      "Longitude                   259109\n",
      "New Georeferenced Column    259109\n",
      "dtype: int64\n"
     ]
    }
   ],
   "source": [
    "print(df.count())"
   ]
  },
  {
   "cell_type": "code",
   "execution_count": 27,
   "metadata": {},
   "outputs": [
    {
     "data": {
      "text/plain": [
       "0"
      ]
     },
     "execution_count": 27,
     "metadata": {},
     "output_type": "execute_result"
    }
   ],
   "source": [
    "df.duplicated().sum()"
   ]
  },
  {
   "cell_type": "code",
   "execution_count": 28,
   "metadata": {},
   "outputs": [],
   "source": [
    "df.to_csv(\"data4.csv.gz\", compression=\"gzip\", index=False)"
   ]
  },
  {
   "cell_type": "code",
   "execution_count": 29,
   "metadata": {},
   "outputs": [],
   "source": [
    "df.replace(\"(null)\", np.nan, inplace=True)"
   ]
  },
  {
   "cell_type": "code",
   "execution_count": 30,
   "metadata": {},
   "outputs": [
    {
     "data": {
      "text/plain": [
       "ARREST_KEY                  259109\n",
       "ARREST_DATE                 259109\n",
       "PD_DESC                     259077\n",
       "OFNS_DESC                   259077\n",
       "LAW_CAT_CD                  259101\n",
       "ARREST_BORO                 259109\n",
       "PERP_SEX                    259109\n",
       "PERP_RACE                   259109\n",
       "X_COORD_CD                  259109\n",
       "Y_COORD_CD                  259109\n",
       "Latitude                    259109\n",
       "Longitude                   259109\n",
       "New Georeferenced Column    259109\n",
       "dtype: int64"
      ]
     },
     "execution_count": 30,
     "metadata": {},
     "output_type": "execute_result"
    }
   ],
   "source": [
    "df.count()"
   ]
  },
  {
   "cell_type": "code",
   "execution_count": 31,
   "metadata": {},
   "outputs": [],
   "source": [
    "df = df.dropna()"
   ]
  },
  {
   "cell_type": "code",
   "execution_count": 32,
   "metadata": {},
   "outputs": [
    {
     "data": {
      "text/plain": [
       "ARREST_KEY                  259077\n",
       "ARREST_DATE                 259077\n",
       "PD_DESC                     259077\n",
       "OFNS_DESC                   259077\n",
       "LAW_CAT_CD                  259077\n",
       "ARREST_BORO                 259077\n",
       "PERP_SEX                    259077\n",
       "PERP_RACE                   259077\n",
       "X_COORD_CD                  259077\n",
       "Y_COORD_CD                  259077\n",
       "Latitude                    259077\n",
       "Longitude                   259077\n",
       "New Georeferenced Column    259077\n",
       "dtype: int64"
      ]
     },
     "execution_count": 32,
     "metadata": {},
     "output_type": "execute_result"
    }
   ],
   "source": [
    "df.count()"
   ]
  }
 ],
 "metadata": {
  "kernelspec": {
   "display_name": "base",
   "language": "python",
   "name": "python3"
  },
  "language_info": {
   "codemirror_mode": {
    "name": "ipython",
    "version": 3
   },
   "file_extension": ".py",
   "mimetype": "text/x-python",
   "name": "python",
   "nbconvert_exporter": "python",
   "pygments_lexer": "ipython3",
   "version": "3.12.4"
  }
 },
 "nbformat": 4,
 "nbformat_minor": 2
}
